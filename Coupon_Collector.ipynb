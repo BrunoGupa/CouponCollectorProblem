{
  "nbformat": 4,
  "nbformat_minor": 0,
  "metadata": {
    "colab": {
      "name": "Coupon Collector.ipynb",
      "provenance": [],
      "collapsed_sections": [],
      "authorship_tag": "ABX9TyNYySOlfL8I/sn39uJkd2iw",
      "include_colab_link": true
    },
    "kernelspec": {
      "name": "python3",
      "display_name": "Python 3"
    }
  },
  "cells": [
    {
      "cell_type": "markdown",
      "metadata": {
        "id": "view-in-github",
        "colab_type": "text"
      },
      "source": [
        "<a href=\"https://colab.research.google.com/github/BrunoRGutierrez/CouponCollectorProblem/blob/master/Coupon_Collector.ipynb\" target=\"_parent\"><img src=\"https://colab.research.google.com/assets/colab-badge.svg\" alt=\"Open In Colab\"/></a>"
      ]
    },
    {
      "cell_type": "markdown",
      "metadata": {
        "id": "BlJqjJhDozES",
        "colab_type": "text"
      },
      "source": [
        "In this code we will develop an algorithm capable to simulate the Coupon Collector's problem (see Mitzenmacher 2017). As show in that book, the expected value to complete the collection of $n$ different coupons is $n\\ln(n)+\\Theta(1)$. We will check that expected value running our algorithm several times."
      ]
    },
    {
      "cell_type": "markdown",
      "metadata": {
        "id": "7rWiYfY3qtjE",
        "colab_type": "text"
      },
      "source": [
        "# The Coupon Colector algorithmimport numpy as np\n"
      ]
    },
    {
      "cell_type": "code",
      "metadata": {
        "id": "hly0piRiol-U",
        "colab_type": "code",
        "colab": {}
      },
      "source": [
        "import numpy as np\n",
        "\n",
        "n_coupons = 10   #number of different coupons\n",
        "\n",
        "def cereal_boxes(n):\n",
        "  #we will simulate the number of cereal boxes that we need to buy in order to achive the full colection.\n",
        "  collection = []\n",
        "  count = 0\n",
        "  while len(collection) < n:\n",
        "    new_coupon = np.random.randint(n)\n",
        "    if new_coupon not in collection:\n",
        "        collection.append(new_coupon)\n",
        "        #print(collection)\n",
        "    count += 1\n",
        "  return count\n"
      ],
      "execution_count": 0,
      "outputs": []
    },
    {
      "cell_type": "code",
      "metadata": {
        "id": "TfMjpCVf3o4e",
        "colab_type": "code",
        "colab": {}
      },
      "source": [
        "def expectation(max_number,running):\n",
        "#running: number of times that we run the algorithm for each value\n",
        "#max_number: = the number of the biggest colection of coupons \n",
        "    y = [0]\n",
        "    for j in range(max_number): \n",
        "      m = j+1\n",
        "      avarage = 0\n",
        "      for i in range(running):\n",
        "        k= i+1 #we must divide by the numer of iterations\n",
        "        avarage = avarage + (1/k)* (cereal_boxes(m) - avarage) #calculate the avarage on line\n",
        "      y.append(avarage)\n",
        "    return y"
      ],
      "execution_count": 0,
      "outputs": []
    },
    {
      "cell_type": "markdown",
      "metadata": {
        "id": "mbrHCJD_Hc1y",
        "colab_type": "text"
      },
      "source": [
        "**Running the excercise**"
      ]
    },
    {
      "cell_type": "code",
      "metadata": {
        "id": "jVsmBHK-6uPO",
        "colab_type": "code",
        "colab": {}
      },
      "source": [
        "running = 100    #number of times that we run the algorithm for each value\n",
        "max_number = 1000  #the number of the biggest colection of coupons \n",
        "\n",
        "simulated_expectation = expectation(max_number,running)"
      ],
      "execution_count": 0,
      "outputs": []
    },
    {
      "cell_type": "markdown",
      "metadata": {
        "id": "QbVxWKfjHKLU",
        "colab_type": "text"
      },
      "source": [
        "## Graphing the excersice"
      ]
    },
    {
      "cell_type": "code",
      "metadata": {
        "id": "cQ24x4BTvqMR",
        "colab_type": "code",
        "outputId": "7ccaf0c6-c32e-4888-cbf1-3b8edeecd0b1",
        "colab": {
          "base_uri": "https://localhost:8080/",
          "height": 409
        }
      },
      "source": [
        "import matplotlib.pyplot as plt\n",
        "import math\n",
        "\n",
        "t = linspace(0, max_number)\n",
        "\n",
        "a = t * np.log(t)\n",
        "b = t * np.log(t) + t\n",
        "\n",
        "\n",
        "line3, = plt.plot(simulated_expectation)\n",
        "line1, = plt.plot(t, a, 'r', label = 'nln(n)', linestyle='--')\n",
        "line2, = plt.plot(t, b, 'r', label = 'nln(n)+n')\n",
        "plt.ylabel('Expected Value')\n",
        "\n",
        "\n",
        "# Create a legend for the first line.\n",
        "first_legend = plt.legend(handles=[line1], loc='right')\n",
        "\n",
        "# Add the legend manually to the current Axes.\n",
        "ax = plt.gca().add_artist(first_legend)\n",
        "\n",
        "# Create another legend for the second line.\n",
        "plt.legend(handles=[line2], loc='upper left')\n",
        "\n",
        "\n",
        "\n",
        "plt.show()"
      ],
      "execution_count": 0,
      "outputs": [
        {
          "output_type": "stream",
          "text": [
            "/usr/local/lib/python3.6/dist-packages/ipykernel_launcher.py:6: RuntimeWarning: divide by zero encountered in log\n",
            "  \n",
            "/usr/local/lib/python3.6/dist-packages/ipykernel_launcher.py:6: RuntimeWarning: invalid value encountered in multiply\n",
            "  \n",
            "/usr/local/lib/python3.6/dist-packages/ipykernel_launcher.py:7: RuntimeWarning: divide by zero encountered in log\n",
            "  import sys\n",
            "/usr/local/lib/python3.6/dist-packages/ipykernel_launcher.py:7: RuntimeWarning: invalid value encountered in multiply\n",
            "  import sys\n"
          ],
          "name": "stderr"
        },
        {
          "output_type": "display_data",
          "data": {
            "image/png": "[encoded data removed]",
            "text/plain": [
              "<Figure size 432x288 with 1 Axes>"
            ]
          },
          "metadata": {
            "tags": []
          }
        }
      ]
    }
  ]
}